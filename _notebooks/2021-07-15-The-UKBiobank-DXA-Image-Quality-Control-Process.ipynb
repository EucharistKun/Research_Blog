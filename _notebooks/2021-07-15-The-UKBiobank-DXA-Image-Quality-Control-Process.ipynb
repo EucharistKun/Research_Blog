{
 "cells": [
  {
   "cell_type": "markdown",
   "metadata": {},
   "source": [
    "# The UK Biobank DXA Image Quality Control Process\n",
    "> Step by step QC to better understand and clean DXA Images obtained from the UKB\n",
    "\n",
    "- categories: [jupyter]"
   ]
  },
  {
   "cell_type": "markdown",
   "metadata": {},
   "source": [
    "## Problem 1 - What File Name Corresponds to What Image?\n",
    "\n",
    "All DXA Images were obtained from the UK Biobank bulk field ID 20158 in the format of Patient-EID_Bulk-field-ID_Visit-Number.zip (6024685_20158_2_0.zip). These folders typically had 8 images, labeled in this format:"
   ]
  },
  {
   "cell_type": "markdown",
   "metadata": {},
   "source": [
    "## Problem 2 - Full Body Xrays are Poorly Cropped\n",
    "\n",
    "After the initial QC process and dividing up the images into a folder for each body part, I began to look at the full body transparent xrays in preparation for our project involving Human Pose Estimation (HPE). Many of the full body xrays had parts of the arm cut off from the final image, resulting in poor pose estimation from the deep learning architecture (HRnet/Resnet). In order to remove images that were cut off at the arm, I created a binary classifier to distinguish between the two types of images and applied it to the entire dataset of ~40,000 images. "
   ]
  },
  {
   "cell_type": "markdown",
   "metadata": {},
   "source": []
  }
 ],
 "metadata": {
  "kernelspec": {
   "display_name": "Python 3",
   "language": "python",
   "name": "python3"
  },
  "language_info": {
   "codemirror_mode": {
    "name": "ipython",
    "version": 3
   },
   "file_extension": ".py",
   "mimetype": "text/x-python",
   "name": "python",
   "nbconvert_exporter": "python",
   "pygments_lexer": "ipython3",
   "version": "3.8.5"
  }
 },
 "nbformat": 4,
 "nbformat_minor": 4
}
