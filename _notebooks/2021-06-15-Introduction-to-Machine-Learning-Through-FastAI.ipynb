{
 "cells": [
  {
   "cell_type": "markdown",
   "metadata": {},
   "source": [
    "# FastAI and Machine Learning\n",
    "> Understanding the basics of binary classification in machine learning with deep learning\n",
    "\n",
    "- categories: [jupyter]"
   ]
  },
  {
   "cell_type": "markdown",
   "metadata": {},
   "source": [
    "## FastAI Chapter 1\n",
    "\n",
    "I have been learning ML through use of the FastAI library, which is built upon PyTorch. Here I will define the basics of machine learning as used in a binary classification model as per the fastbook lesson 1. Programming generally involves a flow chart of inputs -> program -> results in order to solve a problem. Machine learning involves teaching the computer to solves the problems itself by adding a few things to the work flow. By adding \"weights\" (or parameters) to the program (or model), one can adjust the results of the model even with the same inputs. According to fastai, \"weights are just variables, and a weight assignment is a particular choice of values for those variables.\""
   ]
  },
  {
   "cell_type": "code",
   "execution_count": null,
   "metadata": {},
   "outputs": [],
   "source": []
  }
 ],
 "metadata": {
  "kernelspec": {
   "display_name": "Python 3",
   "language": "python",
   "name": "python3"
  },
  "language_info": {
   "codemirror_mode": {
    "name": "ipython",
    "version": 3
   },
   "file_extension": ".py",
   "mimetype": "text/x-python",
   "name": "python",
   "nbconvert_exporter": "python",
   "pygments_lexer": "ipython3",
   "version": "3.8.5"
  }
 },
 "nbformat": 4,
 "nbformat_minor": 4
}
