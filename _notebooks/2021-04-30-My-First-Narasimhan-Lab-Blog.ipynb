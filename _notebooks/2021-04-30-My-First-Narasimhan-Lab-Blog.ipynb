{
 "cells": [
  {
   "cell_type": "markdown",
   "metadata": {},
   "source": [
    "# My Journey in FastAI, TACC, and More\n",
    "\n",
    "I am attempting to document my journey in the Narasimhan lab. The project that I originally signed on to do for my rotation was as follows. "
   ]
  },
  {
   "cell_type": "markdown",
   "metadata": {},
   "source": [
    "## Week 1\n",
    "### The Workflow Layout\n",
    "All computational work is done on the TACC supercomputer at UT. I was allocated to the Frontera machine, and my first task was to ssh into the supercomputer so that I could set up my files and directories in order to get working. \n",
    "\n",
    "ssh -X ekun@frontera.tacc.utexas.edu\n",
    "\n",
    "The main directories I use are\n",
    "\n",
    "- /home1/08068/ekun \n",
    "\n",
    "and \n",
    "\n",
    "- /work2/08068/ekun/frontera\n",
    "\n",
    "The main [website](vis.tacc.utexas.edu) used to create Jupyter Notebooks for FastAI and creating my own classifiers. All Jupyter Notebooks created on vis.tacc.utexas.edu are stored on the home directory\n",
    "\n",
    "All DXA Scans (Dicom Images) are moved to work2 from the UKBiobank directory which is located at \n",
    "\n",
    "- cd /corral-repl/utexas/UKB-Imaging-Genetics/\n",
    "\n",
    "This repo has a lot which I still need to explore, but all the DXA Images are located under \n",
    "\n",
    "- /corral-repl/utexas/UKB-Imaging-Genetics/DXA_Images\n",
    "\n",
    "This folder has all patient EID zip files with their images.\n",
    "\n",
    "- /corral-repl/utexas/UKB-Imaging-Genetics/unzipped_DXA_Images\n",
    "\n",
    "This folder has all patient EID files unzipped with their images\n",
    "\n",
    "##### I still have yet to download my own UK Biobank Data which is near the top of my to do list."
   ]
  },
  {
   "cell_type": "markdown",
   "metadata": {},
   "source": [
    "### Navigating The Linux Terminal\n",
    "My first issues arose after ssh-ing into TACC as the TACC UI is a Linux command line terminal. The most useful commands I learned were as follows:\n",
    "\n",
    "- cd /directory - Enters the directory specified\n",
    "- cd .. - Navigates back a directory\n",
    "- pwd - Displays path of current directory\n",
    "- ls - Displays files of current directory\n",
    "- ls -la - Displays all files of current directory and additional information\n",
    "- head filename.txt or .csv - Displays first few lines of most files\n",
    "- vim filename.txt or .sh allows you to begin writing a file whether it be a text file or bash script \n",
    "  - i - allows you to start writing inside vim\n",
    "  - :wq - save and close the file"
   ]
  },
  {
   "cell_type": "markdown",
   "metadata": {},
   "source": [
    "### Writing My First Bash Scripts\n",
    "The DXA Images were all stored in .zip files with the following syntax: PatientEID_DataField_2_0.zip (ex: 1003186_20158_2_0.zip)\n",
    "\n",
    "I first had to write a bash script to unzip the files and rename the folders containing the images to retain the patient EID. (ex: 1003186_20158_2_0_unzip)"
   ]
  },
  {
   "cell_type": "code",
   "execution_count": 3,
   "metadata": {},
   "outputs": [],
   "source": [
    "#unzip.sh\n",
    "#!/bin/bash\n",
    "\n",
    "#echo \"This unzips all the files in the directory and puts the unzipped files into directories named after the original zip folder\"\n",
    "\n",
    "#for f in *.zip; do\n",
    "#    unzip -d \"${f%.zip}_unzip\" \"$f\"    \n",
    "#done\n",
    "\n",
    "# To unzip the files and put them into a new directory outside of the current directory while renaming them:\n",
    "\n",
    "#for f in *.zip; do\n",
    "#    unzip -d \"/corral-repl/utexas/UKB-Imaging-Genetics/unzipped_DXA_Images/${f%.zip}_unzip\" \"$f\"       \n",
    "#done"
   ]
  },
  {
   "attachments": {},
   "cell_type": "markdown",
   "metadata": {},
   "source": [
    "## FastAI Progress and Notes\n",
    "\n",
    "I have been learning ML through use of the FastAI library, which is built upon PyTorch. Here I will define the basics of machine learning as used in a binary classification model as per the fastbook lesson 1. Programming generally involves a flow chart of inputs -> program -> results in order to solve a problem. Machine learning involves teaching the computer to solves the problems itself by adding a few things to the work flow. By adding \"weights\" (or parameters) to the program (or model), one can adjust the results of the model even with the same inputs. According to fastai, \"weights are just variables, and a weight assignment is a particular choice of values for those variables.\""
   ]
  },
  {
   "attachments": {},
   "cell_type": "markdown",
   "metadata": {},
   "source": []
  },
  {
   "cell_type": "code",
   "execution_count": null,
   "metadata": {},
   "outputs": [],
   "source": []
  }
 ],
 "metadata": {
  "kernelspec": {
   "display_name": "Python 3",
   "language": "python",
   "name": "python3"
  },
  "language_info": {
   "codemirror_mode": {
    "name": "ipython",
    "version": 3
   },
   "file_extension": ".py",
   "mimetype": "text/x-python",
   "name": "python",
   "nbconvert_exporter": "python",
   "pygments_lexer": "ipython3",
   "version": "3.8.5"
  }
 },
 "nbformat": 4,
 "nbformat_minor": 4
}
